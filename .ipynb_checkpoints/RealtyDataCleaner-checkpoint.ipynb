{
 "cells": [
  {
   "cell_type": "code",
   "execution_count": 17,
   "metadata": {},
   "outputs": [],
   "source": [
    "import pandas as pd\n",
    "from csv import reader"
   ]
  },
  {
   "cell_type": "code",
   "execution_count": 85,
   "metadata": {
    "scrolled": true
   },
   "outputs": [],
   "source": [
    "def initial_clean_data(data_filename):\n",
    "    \"\"\"\n",
    "    Params:\n",
    "        data_filename: name of file containing data\n",
    "    Function:\n",
    "        Parses file for individual dfs and stores values according to columns, then joins in one master df\n",
    "    \"\"\"\n",
    "    \n",
    "    columns = []\n",
    "    houses = []\n",
    "    with open(data_filename) as file:\n",
    "        for attrs in reader(file):\n",
    "            #Check if the line being read contains column definitions\n",
    "            if attrs[0] == '':\n",
    "                columns = attrs[1:]\n",
    "                continue\n",
    "            else:\n",
    "                house_dict = {}\n",
    "                for attr, attr_name in zip(attrs[1:], columns):\n",
    "                    house_dict[attr_name] = attr\n",
    "                houses.append(house_dict)\n",
    "\n",
    "    houses_df = pd.DataFrame.from_dict(houses, orient='columns')\n",
    "    houses_df.set_index('Address', inplace=True)\n",
    "    houses_df.drop_duplicates(inplace=True)\n",
    "    return houses_df"
   ]
  },
  {
   "cell_type": "code",
   "execution_count": 84,
   "metadata": {},
   "outputs": [],
   "source": [
    "cleaned_df = initial_clean_data(\"HouseData.csv\")\n",
    "cleaned_df.to_csv('HouseDataCleaned.csv')"
   ]
  },
  {
   "cell_type": "code",
   "execution_count": null,
   "metadata": {},
   "outputs": [],
   "source": []
  }
 ],
 "metadata": {
  "kernelspec": {
   "display_name": "Python 3",
   "language": "python",
   "name": "python3"
  },
  "language_info": {
   "codemirror_mode": {
    "name": "ipython",
    "version": 3
   },
   "file_extension": ".py",
   "mimetype": "text/x-python",
   "name": "python",
   "nbconvert_exporter": "python",
   "pygments_lexer": "ipython3",
   "version": "3.7.3"
  }
 },
 "nbformat": 4,
 "nbformat_minor": 2
}
